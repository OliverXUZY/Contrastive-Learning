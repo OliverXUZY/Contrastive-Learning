{
 "cells": [
  {
   "cell_type": "code",
   "execution_count": 1,
   "metadata": {},
   "outputs": [],
   "source": [
    "import torch\n",
    "import torch.nn as nn\n",
    "import numpy as np\n",
    "import pandas as pd\n",
    "import seaborn as sns\n",
    "import matplotlib.pyplot as plt\n"
   ]
  },
  {
   "cell_type": "code",
   "execution_count": 251,
   "metadata": {},
   "outputs": [
    {
     "name": "stdout",
     "output_type": "stream",
     "text": [
      "pz4: 0.039705882352941146\n"
     ]
    },
    {
     "data": {
      "text/plain": [
       "tensor([[-0.5602,  0.5476],\n",
       "        [-0.2315,  1.3554]], requires_grad=True)"
      ]
     },
     "execution_count": 251,
     "metadata": {},
     "output_type": "execute_result"
    }
   ],
   "source": [
    "z1 = torch.tensor([0,1], dtype=torch.float32)\n",
    "z2 = torch.tensor([0,0], dtype=torch.float32)\n",
    "z3 = torch.tensor([1,0], dtype=torch.float32)\n",
    "z4 = torch.tensor([1,1], dtype=torch.float32)\n",
    "\n",
    "pz1 = 1/8\n",
    "pz2 = 4/17\n",
    "pz3 = 3/5\n",
    "pz4 = 1-pz1-pz2-pz3\n",
    "\n",
    "assert(pz4 > 0)\n",
    "print(\"pz4:\", pz4)\n",
    "\n",
    "\n",
    "A = torch.randn(2, 2, requires_grad=True)\n",
    "A"
   ]
  },
  {
   "cell_type": "code",
   "execution_count": 252,
   "metadata": {},
   "outputs": [],
   "source": [
    "l = lambda x: torch.log(1+torch.exp(-x))\n",
    "def loss_fun(A = A, z1 = z1, z2 = z2, z3 = z3, z4 = z4):\n",
    "    res = l(z1.matmul(A).matmul(z1-z2))*pz1*pz2 + l(z1.matmul(A).matmul(z1-z3))*pz1*pz3 + l(z1.matmul(A).matmul(z1-z4))*pz1*pz4 \\\n",
    "    + l(z2.matmul(A).matmul(z2-z1))*pz1*pz2 + z2.matmul(A).matmul(z2-z3)*pz2*pz3 + z2.matmul(A).matmul(z2-z4)*pz2*pz4 \\\n",
    "    + l(z3.matmul(A).matmul(z3-z1))*pz1*pz3 + l(z3.matmul(A).matmul(z3-z2))*pz2*pz3 + l(z3.matmul(A).matmul(z3-z4))*pz3*pz4 \\\n",
    "    + l(z4.matmul(A).matmul(z4-z1))*pz1*pz4 + l(z4.matmul(A).matmul(z4-z2))*pz2*pz4 + l(z4.matmul(A).matmul(z4-z3))*pz3*pz4\n",
    "    return res"
   ]
  },
  {
   "cell_type": "markdown",
   "metadata": {},
   "source": [
    "### frobenius norm bound by 2"
   ]
  },
  {
   "cell_type": "code",
   "execution_count": 256,
   "metadata": {},
   "outputs": [
    {
     "name": "stdout",
     "output_type": "stream",
     "text": [
      "0 0.17051881551742554\n",
      "5000 0.1598522961139679\n",
      "10000 0.15327949821949005\n",
      "15000 0.1491927206516266\n",
      "20000 0.1466258317232132\n"
     ]
    }
   ],
   "source": [
    "learning_rate = 5e-4\n",
    "epoch_loss = []\n",
    "for t in range(20001):\n",
    "    loss = loss_fun()\n",
    "    if t % 5000 == 0:\n",
    "        print(t, loss.item())\n",
    "    \n",
    "    # Backward pass: compute gradient of the loss with respect to all the learnable\n",
    "    # parameters of the model. Internally, the parameters of each Module are stored\n",
    "    # in Tensors with requires_grad=True, so this call will compute gradients for\n",
    "    # all learnable parameters in the model.\n",
    "    loss.backward()\n",
    "    \n",
    "    # Update the weights using gradient descent. Each parameter is a Tensor, so\n",
    "    # we can access its gradients like we did before.\n",
    "    with torch.no_grad():\n",
    "        A -= learning_rate * A.grad\n",
    "    \n",
    "    fnorm = torch.sqrt(torch.square(A).sum()/2).item()\n",
    "\n",
    "    if fnorm > 1:\n",
    "        with torch.no_grad():\n",
    "            A /= fnorm\n",
    "    \n",
    "    # Zero the gradients before running the backward pass.\n",
    "    A.grad.zero_()\n",
    "\n",
    "    epoch_loss.append(loss.item())"
   ]
  },
  {
   "cell_type": "code",
   "execution_count": 125,
   "metadata": {},
   "outputs": [],
   "source": [
    "# sns.lineplot(epoch_loss)"
   ]
  },
  {
   "cell_type": "code",
   "execution_count": 254,
   "metadata": {},
   "outputs": [
    {
     "data": {
      "text/plain": [
       "0.15097177028656006"
      ]
     },
     "execution_count": 254,
     "metadata": {},
     "output_type": "execute_result"
    }
   ],
   "source": [
    "# identity matrix loss\n",
    "loss_fun(A = torch.eye(2)).item()"
   ]
  },
  {
   "cell_type": "code",
   "execution_count": 255,
   "metadata": {},
   "outputs": [
    {
     "data": {
      "text/plain": [
       "0.17051881551742554"
      ]
     },
     "execution_count": 255,
     "metadata": {},
     "output_type": "execute_result"
    }
   ],
   "source": [
    "loss_fun(A = A).item()"
   ]
  },
  {
   "cell_type": "code",
   "execution_count": 130,
   "metadata": {},
   "outputs": [
    {
     "name": "stdout",
     "output_type": "stream",
     "text": [
      "1.9999487400054932\n"
     ]
    },
    {
     "data": {
      "text/plain": [
       "tensor([[ 0.8418, -0.6329],\n",
       "        [-0.5071,  0.7960]], requires_grad=True)"
      ]
     },
     "execution_count": 130,
     "metadata": {},
     "output_type": "execute_result"
    }
   ],
   "source": [
    "# F norm bounded by 2\n",
    "fnorm = (A*A).sum().item()\n",
    "print(fnorm)\n",
    "A"
   ]
  },
  {
   "cell_type": "code",
   "execution_count": null,
   "metadata": {},
   "outputs": [],
   "source": []
  },
  {
   "cell_type": "code",
   "execution_count": null,
   "metadata": {},
   "outputs": [],
   "source": []
  },
  {
   "cell_type": "markdown",
   "metadata": {},
   "source": [
    "### Spectral norm bounded by 1"
   ]
  },
  {
   "cell_type": "code",
   "execution_count": 131,
   "metadata": {},
   "outputs": [
    {
     "data": {
      "text/plain": [
       "tensor([[-0.6575, -0.4833],\n",
       "        [ 0.5575,  1.1064]], requires_grad=True)"
      ]
     },
     "execution_count": 131,
     "metadata": {},
     "output_type": "execute_result"
    }
   ],
   "source": [
    "# z1 = torch.tensor([0,1], dtype=torch.float32)\n",
    "# z2 = torch.tensor([0,0], dtype=torch.float32)\n",
    "# z3 = torch.tensor([1,0], dtype=torch.float32)\n",
    "# z4 = torch.tensor([1,1], dtype=torch.float32)\n",
    "\n",
    "A2 = torch.randn(2, 2, requires_grad=True)\n",
    "A2"
   ]
  },
  {
   "cell_type": "code",
   "execution_count": 138,
   "metadata": {},
   "outputs": [
    {
     "name": "stdout",
     "output_type": "stream",
     "text": [
      "0 0.2942802906036377\n",
      "5000 0.2931792140007019\n",
      "10000 0.29208099842071533\n",
      "15000 0.2909858822822571\n",
      "20000 0.28991183638572693\n"
     ]
    }
   ],
   "source": [
    "learning_rate = 1e-5\n",
    "def train_specNorm(learning_rate= 1e-5, A = A2):\n",
    "    epoch_loss = []\n",
    "    for t in range(20001):\n",
    "        loss = loss_fun(A = A)\n",
    "        if t % 5000 == 0:\n",
    "            print(t, loss.item())\n",
    "        \n",
    "        # Backward pass: compute gradient of the loss with respect to all the learnable\n",
    "        # parameters of the model. Internally, the parameters of each Module are stored\n",
    "        # in Tensors with requires_grad=True, so this call will compute gradients for\n",
    "        # all learnable parameters in the model.\n",
    "        loss.backward()\n",
    "        \n",
    "        # Update the weights using gradient descent. Each parameter is a Tensor, so\n",
    "        # we can access its gradients like we did before.\n",
    "        with torch.no_grad():\n",
    "            A -= learning_rate * A.grad\n",
    "        \n",
    "        U, S, Vh = torch.linalg.svd(A, full_matrices=False)\n",
    "\n",
    "        if S[0].item() > 1:\n",
    "            with torch.no_grad():\n",
    "                A /= S[0].item()\n",
    "        \n",
    "        # Zero the gradients before running the backward pass.\n",
    "        A.grad.zero_()\n",
    "\n",
    "        epoch_loss.append(loss.item())\n",
    "    return A, epoch_loss\n",
    "    \n",
    "A2, epoch_loss = train_specNorm(learning_rate= 1e-5, A = A2)"
   ]
  },
  {
   "cell_type": "code",
   "execution_count": 133,
   "metadata": {},
   "outputs": [],
   "source": [
    "# sns.lineplot(epoch_loss)"
   ]
  },
  {
   "cell_type": "code",
   "execution_count": 134,
   "metadata": {},
   "outputs": [
    {
     "data": {
      "text/plain": [
       "0.15097177028656006"
      ]
     },
     "execution_count": 134,
     "metadata": {},
     "output_type": "execute_result"
    }
   ],
   "source": [
    "# identity matrix loss\n",
    "loss_fun(A = torch.eye(2)).item()"
   ]
  },
  {
   "cell_type": "code",
   "execution_count": 136,
   "metadata": {},
   "outputs": [
    {
     "data": {
      "text/plain": [
       "0.2942802906036377"
      ]
     },
     "execution_count": 136,
     "metadata": {},
     "output_type": "execute_result"
    }
   ],
   "source": [
    "loss_fun(A = A2).item()"
   ]
  },
  {
   "cell_type": "code",
   "execution_count": 137,
   "metadata": {},
   "outputs": [
    {
     "name": "stdout",
     "output_type": "stream",
     "text": [
      "tensor([1.0000, 0.2014], grad_fn=<LinalgSvdBackward0>)\n"
     ]
    },
    {
     "data": {
      "text/plain": [
       "tensor([[-0.4271, -0.3405],\n",
       "        [ 0.3790,  0.7736]], requires_grad=True)"
      ]
     },
     "execution_count": 137,
     "metadata": {},
     "output_type": "execute_result"
    }
   ],
   "source": [
    "# Spec norm bounded by 1\n",
    "U, S, Vh = torch.linalg.svd(A2, full_matrices=False)\n",
    "print(S)\n",
    "A2"
   ]
  },
  {
   "cell_type": "code",
   "execution_count": null,
   "metadata": {},
   "outputs": [],
   "source": []
  },
  {
   "cell_type": "markdown",
   "metadata": {},
   "source": [
    "## High Dimension"
   ]
  },
  {
   "cell_type": "code",
   "execution_count": 2,
   "metadata": {},
   "outputs": [],
   "source": [
    "# dim of z\n",
    "k = 100\n",
    "p1, p2 = 1/4,3/4\n",
    "l = lambda x: torch.log(1+torch.exp(-x))"
   ]
  },
  {
   "cell_type": "code",
   "execution_count": 3,
   "metadata": {},
   "outputs": [],
   "source": [
    "# generate size k array with each entry =  1 w.p.  p1 \n",
    "#                                          0 w.p.  p2\n",
    "def sampleZ(k=100,p = [1/4,3/4]):\n",
    "    p1, p2 = p\n",
    "    tmp = np.random.choice([0,1], k, p = [p1,p2])\n",
    "    z = torch.from_numpy(tmp).type(torch.float32)\n",
    "    return z\n",
    "\n",
    "z1 = sampleZ()\n",
    "z2 = sampleZ()\n",
    "# print(z1-z2)"
   ]
  },
  {
   "cell_type": "code",
   "execution_count": 4,
   "metadata": {},
   "outputs": [
    {
     "name": "stdout",
     "output_type": "stream",
     "text": [
      "Linear(in_features=100, out_features=100, bias=False)\n"
     ]
    },
    {
     "data": {
      "text/plain": [
       "tensor(0.0600, grad_fn=<AddBackward0>)"
      ]
     },
     "execution_count": 4,
     "metadata": {},
     "output_type": "execute_result"
    }
   ],
   "source": [
    "class myModel(nn.Module):\n",
    "    def __init__(self,k) -> None:\n",
    "        super(myModel, self).__init__()\n",
    "\n",
    "        self.M = nn.Linear(k,k, bias=False)\n",
    "\n",
    "    def forward(self, z1, z2):\n",
    "        \"\"\"\n",
    "        Input:\n",
    "            z1: first image latent vector\n",
    "            z2: second image latent vector\n",
    "        Output:\n",
    "            loss\n",
    "        \"\"\"\n",
    "        Mz1 = self.M(z1)\n",
    "        Mz2 = self.M(z2)\n",
    "        loss = l(Mz1.matmul(Mz1-Mz2)) + l(Mz2.matmul(Mz2-Mz1))\n",
    "        return loss\n",
    "\n",
    "model = myModel(k)\n",
    "# We want to investigate whether A = M^T M is closed to identity\n",
    "print(model.M)\n",
    "\n",
    "z1 = sampleZ()\n",
    "z2 = sampleZ()\n",
    "model(z1,z2)"
   ]
  },
  {
   "cell_type": "code",
   "execution_count": 13,
   "metadata": {},
   "outputs": [],
   "source": [
    "def train(model, train_optimizer, constrain = [\"fnorm\", \"spec_norm\"]):\n",
    "    \"\"\"\n",
    "    epoch: each epoch represents we sampled one pair (z1, z2) from \\eta\n",
    "    \"\"\"\n",
    "    model.train()\n",
    "    z1 = sampleZ()\n",
    "    z2 = sampleZ()\n",
    "    loss = model(z1,z2)\n",
    "\n",
    "    train_optimizer.zero_grad()\n",
    "    loss.backward()\n",
    "    train_optimizer.step()\n",
    "\n",
    "    M = model.M.weight\n",
    "    A = M.T.matmul(M)\n",
    "    k = M.shape[0]\n",
    "    if constrain == \"fnorm\":\n",
    "        fnorm = torch.sqrt(torch.square(A).sum()/k).item()\n",
    "        if fnorm > 1:\n",
    "            with torch.no_grad():\n",
    "                for param in model.parameters():\n",
    "                    param /= torch.sqrt(fnorm).item()\n",
    "\n",
    "    elif constrain == \"spec_norm\":\n",
    "        U, S, Vh = torch.linalg.svd(A, full_matrices=False)\n",
    "\n",
    "        if S[0].item() > 1:\n",
    "            with torch.no_grad():\n",
    "                for param in model.parameters():\n",
    "                    param /= torch.sqrt(S[0]).item()\n",
    "    \n",
    "    \n",
    "    return loss\n",
    "    "
   ]
  },
  {
   "cell_type": "code",
   "execution_count": 14,
   "metadata": {},
   "outputs": [],
   "source": [
    "# test\n",
    "# train(model, optimizer, 10)"
   ]
  },
  {
   "cell_type": "code",
   "execution_count": 15,
   "metadata": {},
   "outputs": [],
   "source": [
    "LEARNING_RATE = 1e-4\n",
    "WEIGHT_DECAY = 0\n",
    "MOMENTUM = 0"
   ]
  },
  {
   "cell_type": "markdown",
   "metadata": {},
   "source": [
    "Non-constrain"
   ]
  },
  {
   "cell_type": "code",
   "execution_count": 23,
   "metadata": {},
   "outputs": [
    {
     "name": "stdout",
     "output_type": "stream",
     "text": [
      "Epoch: 1/20000  === Train Cost: 0.025364570319652557\n",
      "Epoch: 5001/20000  === Train Cost: 0.01613612286746502\n",
      "Epoch: 10001/20000  === Train Cost: 0.001463916152715683\n",
      "Epoch: 15001/20000  === Train Cost: 0.027986515313386917\n",
      "Epoch: 20001/20000  === Train Cost: 0.006793559528887272\n"
     ]
    }
   ],
   "source": [
    "# define optimizer\n",
    "optimizer = torch.optim.SGD(model.parameters(), lr=LEARNING_RATE, weight_decay=WEIGHT_DECAY, momentum=MOMENTUM)\n",
    "\n",
    "\n",
    "# training loop\n",
    "train_loss_total = []\n",
    "for epoch in range(20001):\n",
    "    train_loss = train(model, optimizer, constrain = None)\n",
    "    train_loss_total.append(train_loss)\n",
    "    # LOGGING\n",
    "    if epoch % 5000 == 0:\n",
    "        print(\"Epoch: {}/{}  === Train Cost: {}\".format(epoch + 1, 20000, train_loss))\n",
    "\n",
    "    # save model\n",
    "    # torch.save({'epoch': epoch, 'state_dict': model.state_dict(), 'optimizer' : optimizer.state_dict(),}, args.results_dir + '/model_last.pth')"
   ]
  },
  {
   "cell_type": "code",
   "execution_count": 24,
   "metadata": {},
   "outputs": [
    {
     "data": {
      "text/plain": [
       "tensor([[ 0.3009,  0.0242,  0.0210,  ...,  0.0499, -0.0917, -0.0239],\n",
       "        [ 0.0242,  0.3154, -0.0037,  ...,  0.0273, -0.0380, -0.0511],\n",
       "        [ 0.0210, -0.0037,  0.3307,  ..., -0.0157, -0.0046, -0.0166],\n",
       "        ...,\n",
       "        [ 0.0499,  0.0273, -0.0157,  ...,  0.3519,  0.0024,  0.0182],\n",
       "        [-0.0917, -0.0380, -0.0046,  ...,  0.0024,  0.3559, -0.0576],\n",
       "        [-0.0239, -0.0511, -0.0166,  ...,  0.0182, -0.0576,  0.3263]],\n",
       "       grad_fn=<MmBackward0>)"
      ]
     },
     "execution_count": 24,
     "metadata": {},
     "output_type": "execute_result"
    }
   ],
   "source": [
    "M = model.M.weight\n",
    "A = M.T.matmul(M)\n",
    "A"
   ]
  },
  {
   "cell_type": "code",
   "execution_count": 25,
   "metadata": {},
   "outputs": [
    {
     "data": {
      "text/plain": [
       "4.800950050354004"
      ]
     },
     "execution_count": 25,
     "metadata": {},
     "output_type": "execute_result"
    }
   ],
   "source": [
    "torch.sqrt(torch.square(A).sum()).item()"
   ]
  },
  {
   "cell_type": "code",
   "execution_count": 26,
   "metadata": {},
   "outputs": [
    {
     "data": {
      "text/plain": [
       "tensor(0.0005, grad_fn=<AddBackward0>)"
      ]
     },
     "execution_count": 26,
     "metadata": {},
     "output_type": "execute_result"
    }
   ],
   "source": [
    "z1 = sampleZ()\n",
    "z2 = sampleZ()\n",
    "model(z1,z2)"
   ]
  },
  {
   "cell_type": "code",
   "execution_count": 27,
   "metadata": {},
   "outputs": [
    {
     "data": {
      "text/plain": [
       "tensor(0.0005, grad_fn=<AddBackward0>)"
      ]
     },
     "execution_count": 27,
     "metadata": {},
     "output_type": "execute_result"
    }
   ],
   "source": [
    "l(z1.matmul(A).matmul(z1-z2)) + l(z2.matmul(A).matmul(z2-z1))"
   ]
  },
  {
   "cell_type": "code",
   "execution_count": null,
   "metadata": {},
   "outputs": [],
   "source": []
  },
  {
   "cell_type": "markdown",
   "metadata": {},
   "source": [
    "fnorm constrain"
   ]
  },
  {
   "cell_type": "code",
   "execution_count": 8,
   "metadata": {},
   "outputs": [
    {
     "name": "stdout",
     "output_type": "stream",
     "text": [
      "Epoch: 1/20000  === Train Cost: 0.015207415446639061\n",
      "Epoch: 5001/20000  === Train Cost: 0.015419245697557926\n",
      "Epoch: 10001/20000  === Train Cost: 0.05502491444349289\n",
      "Epoch: 15001/20000  === Train Cost: 0.005729258060455322\n",
      "Epoch: 20001/20000  === Train Cost: 0.005845954176038504\n"
     ]
    }
   ],
   "source": [
    "# define optimizer\n",
    "optimizer = torch.optim.SGD(model.parameters(), lr=LEARNING_RATE, weight_decay=WEIGHT_DECAY, momentum=MOMENTUM)\n",
    "\n",
    "\n",
    "# training loop\n",
    "train_loss_total = []\n",
    "for epoch in range(20001):\n",
    "    train_loss = train(model, optimizer, constrain = \"fnorm\")\n",
    "    train_loss_total.append(train_loss)\n",
    "    # LOGGING\n",
    "    if epoch % 5000 == 0:\n",
    "        print(\"Epoch: {}/{}  === Train Cost: {}\".format(epoch + 1, 20000, train_loss))\n",
    "\n",
    "    # save model\n",
    "    # torch.save({'epoch': epoch, 'state_dict': model.state_dict(), 'optimizer' : optimizer.state_dict(),}, args.results_dir + '/model_last.pth')"
   ]
  },
  {
   "cell_type": "code",
   "execution_count": 9,
   "metadata": {},
   "outputs": [],
   "source": [
    "M = model.M.weight"
   ]
  },
  {
   "cell_type": "code",
   "execution_count": 10,
   "metadata": {},
   "outputs": [],
   "source": [
    "A = M.T.matmul(M)"
   ]
  },
  {
   "cell_type": "code",
   "execution_count": 11,
   "metadata": {},
   "outputs": [
    {
     "data": {
      "text/plain": [
       "4.709470272064209"
      ]
     },
     "execution_count": 11,
     "metadata": {},
     "output_type": "execute_result"
    }
   ],
   "source": [
    "torch.sqrt(torch.square(A).sum()).item()"
   ]
  },
  {
   "cell_type": "code",
   "execution_count": 12,
   "metadata": {},
   "outputs": [
    {
     "data": {
      "text/plain": [
       "tensor([[ 0.2934,  0.0222,  0.0199,  ...,  0.0479, -0.0903, -0.0241],\n",
       "        [ 0.0222,  0.3070, -0.0051,  ...,  0.0246, -0.0390, -0.0518],\n",
       "        [ 0.0199, -0.0051,  0.3230,  ..., -0.0162, -0.0044, -0.0165],\n",
       "        ...,\n",
       "        [ 0.0479,  0.0246, -0.0162,  ...,  0.3428,  0.0024,  0.0173],\n",
       "        [-0.0903, -0.0390, -0.0044,  ...,  0.0024,  0.3488, -0.0557],\n",
       "        [-0.0241, -0.0518, -0.0165,  ...,  0.0173, -0.0557,  0.3192]],\n",
       "       grad_fn=<MmBackward0>)"
      ]
     },
     "execution_count": 12,
     "metadata": {},
     "output_type": "execute_result"
    }
   ],
   "source": [
    "A"
   ]
  },
  {
   "cell_type": "code",
   "execution_count": 279,
   "metadata": {},
   "outputs": [],
   "source": [
    "# for name, param in model.named_parameters():\n",
    "#     if param.requires_grad:\n",
    "#         print(name, param.data)"
   ]
  },
  {
   "cell_type": "code",
   "execution_count": 13,
   "metadata": {},
   "outputs": [],
   "source": [
    "A = M.T.matmul(M)"
   ]
  },
  {
   "cell_type": "code",
   "execution_count": 14,
   "metadata": {},
   "outputs": [
    {
     "data": {
      "image/png": "[encoded data removed]",
      "text/plain": [
       "<Figure size 432x288 with 1 Axes>"
      ]
     },
     "metadata": {
      "needs_background": "light"
     },
     "output_type": "display_data"
    }
   ],
   "source": [
    "plt.imshow(A.detach().numpy(), cmap='hot', interpolation='nearest')\n",
    "plt.show()\n"
   ]
  },
  {
   "cell_type": "code",
   "execution_count": 15,
   "metadata": {},
   "outputs": [
    {
     "data": {
      "text/plain": [
       "tensor([[35926.2227, -9299.8750,  3454.7537,   703.4509, -3443.7322],\n",
       "        [-9299.8750, 33863.3555,  -625.8623, -1771.1759,  6330.3818],\n",
       "        [ 3454.7537,  -625.8623, 34965.9141, -1898.9648,  2971.2480],\n",
       "        [  703.4509, -1771.1759, -1898.9648, 37801.3711, -3892.2898],\n",
       "        [-3443.7322,  6330.3818,  2971.2480, -3892.2898, 35028.7344]],\n",
       "       grad_fn=<MulBackward0>)"
      ]
     },
     "execution_count": 15,
     "metadata": {},
     "output_type": "execute_result"
    }
   ],
   "source": [
    "A[:5,:5]*100000"
   ]
  },
  {
   "cell_type": "code",
   "execution_count": null,
   "metadata": {},
   "outputs": [],
   "source": []
  },
  {
   "cell_type": "markdown",
   "metadata": {},
   "source": [
    "Spec_norm constrain"
   ]
  },
  {
   "cell_type": "code",
   "execution_count": 286,
   "metadata": {},
   "outputs": [
    {
     "name": "stdout",
     "output_type": "stream",
     "text": [
      "Epoch: 1/20000  === Train Cost: 0.035288408398628235\n",
      "Epoch: 5001/20000  === Train Cost: 0.023336047306656837\n",
      "Epoch: 10001/20000  === Train Cost: 0.005657116416841745\n",
      "Epoch: 15001/20000  === Train Cost: 0.0032830636482685804\n",
      "Epoch: 20001/20000  === Train Cost: 0.001458787708543241\n"
     ]
    }
   ],
   "source": [
    "# define optimizer\n",
    "optimizer = torch.optim.SGD(model.parameters(), lr=LEARNING_RATE, weight_decay=WEIGHT_DECAY, momentum=MOMENTUM)\n",
    "\n",
    "\n",
    "# training loop\n",
    "train_loss_total = []\n",
    "for epoch in range(20001):\n",
    "    train_loss = train(model, optimizer, constrain = \"spec_norm\")\n",
    "    train_loss_total.append(train_loss)\n",
    "    # LOGGING\n",
    "    if epoch % 5000 == 0:\n",
    "        print(\"Epoch: {}/{}  === Train Cost: {}\".format(epoch + 1, 20000, train_loss))\n",
    "\n",
    "    # save model\n",
    "    # torch.save({'epoch': epoch, 'state_dict': model.state_dict(), 'optimizer' : optimizer.state_dict(),}, args.results_dir + '/model_last.pth')"
   ]
  },
  {
   "cell_type": "code",
   "execution_count": 287,
   "metadata": {},
   "outputs": [],
   "source": [
    "A = M.T.matmul(M)"
   ]
  },
  {
   "cell_type": "code",
   "execution_count": 288,
   "metadata": {},
   "outputs": [
    {
     "data": {
      "image/png": "[encoded data removed]",
      "text/plain": [
       "<Figure size 432x288 with 1 Axes>"
      ]
     },
     "metadata": {
      "needs_background": "light"
     },
     "output_type": "display_data"
    }
   ],
   "source": [
    "plt.imshow(A.detach().numpy(), cmap='hot', interpolation='nearest')\n",
    "plt.show()"
   ]
  },
  {
   "cell_type": "code",
   "execution_count": 291,
   "metadata": {},
   "outputs": [
    {
     "data": {
      "text/plain": [
       "tensor([[ 4.4524, -0.8296,  0.1753,  0.1149, -0.2852],\n",
       "        [-0.8296,  4.7194, -0.2615, -0.2360,  1.0098],\n",
       "        [ 0.1753, -0.2615,  3.7356,  0.0125,  0.2540],\n",
       "        [ 0.1149, -0.2360,  0.0125,  4.2690,  0.3352],\n",
       "        [-0.2852,  1.0098,  0.2540,  0.3352,  4.5141]], grad_fn=<MulBackward0>)"
      ]
     },
     "execution_count": 291,
     "metadata": {},
     "output_type": "execute_result"
    }
   ],
   "source": [
    "A[:5,:5]*100000"
   ]
  },
  {
   "cell_type": "code",
   "execution_count": null,
   "metadata": {},
   "outputs": [],
   "source": []
  }
 ],
 "metadata": {
  "kernelspec": {
   "display_name": "Python 3.8.3 ('base')",
   "language": "python",
   "name": "python3"
  },
  "language_info": {
   "codemirror_mode": {
    "name": "ipython",
    "version": 3
   },
   "file_extension": ".py",
   "mimetype": "text/x-python",
   "name": "python",
   "nbconvert_exporter": "python",
   "pygments_lexer": "ipython3",
   "version": "3.8.3"
  },
  "orig_nbformat": 4,
  "vscode": {
   "interpreter": {
    "hash": "988c794135c7b53f1bd55a0ab2ba580152f2cd81db3906515a6ddf7fd2edeb28"
   }
  }
 },
 "nbformat": 4,
 "nbformat_minor": 2
}
