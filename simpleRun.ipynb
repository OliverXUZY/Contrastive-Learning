{
 "cells": [
  {
   "cell_type": "code",
   "execution_count": 8,
   "metadata": {},
   "outputs": [],
   "source": [
    "import torch\n",
    "import torch.nn as nn\n",
    "import numpy as np\n",
    "import pandas as pd\n",
    "import seaborn as sns\n",
    "import matplotlib.pyplot as plt\n"
   ]
  },
  {
   "cell_type": "code",
   "execution_count": 79,
   "metadata": {},
   "outputs": [],
   "source": [
    "l = lambda x: torch.log(1+torch.exp(-x))\n"
   ]
  },
  {
   "cell_type": "markdown",
   "metadata": {},
   "source": [
    "## Simple case"
   ]
  },
  {
   "cell_type": "code",
   "execution_count": null,
   "metadata": {},
   "outputs": [],
   "source": []
  },
  {
   "cell_type": "code",
   "execution_count": 13,
   "metadata": {},
   "outputs": [
    {
     "name": "stdout",
     "output_type": "stream",
     "text": [
      "pz4: 0.039705882352941146\n"
     ]
    }
   ],
   "source": [
    "z1 = torch.tensor([0,1], dtype=torch.float32)\n",
    "z2 = torch.tensor([0,0], dtype=torch.float32)\n",
    "z3 = torch.tensor([1,0], dtype=torch.float32)\n",
    "z4 = torch.tensor([1,1], dtype=torch.float32)\n",
    "\n",
    "# pz1 = 1/8\n",
    "# pz2 = 4/17\n",
    "# pz3 = 3/5\n",
    "# pz4 = 1-pz1-pz2-pz3\n",
    "\n",
    "# assert(pz4 > 0)\n",
    "# print(\"pz4:\", pz4)\n",
    "\n",
    "A = torch.randn(2, 2, requires_grad=True)"
   ]
  },
  {
   "cell_type": "code",
   "execution_count": 15,
   "metadata": {},
   "outputs": [],
   "source": [
    "def loss_fun(A = A, z1 = z1, z2 = z2, z3 = z3, z4 = z4, p = [1/8, 4/17, 3/5, 1-1/8-4/17-3/5]):\n",
    "    pz1, pz2, pz3, pz4 = p\n",
    "    res = l(z1.matmul(A).matmul(z1-z2))*pz1*pz2 + l(z1.matmul(A).matmul(z1-z3))*pz1*pz3 + l(z1.matmul(A).matmul(z1-z4))*pz1*pz4 \\\n",
    "    + l(z2.matmul(A).matmul(z2-z1))*pz1*pz2 + z2.matmul(A).matmul(z2-z3)*pz2*pz3 + z2.matmul(A).matmul(z2-z4)*pz2*pz4 \\\n",
    "    + l(z3.matmul(A).matmul(z3-z1))*pz1*pz3 + l(z3.matmul(A).matmul(z3-z2))*pz2*pz3 + l(z3.matmul(A).matmul(z3-z4))*pz3*pz4 \\\n",
    "    + l(z4.matmul(A).matmul(z4-z1))*pz1*pz4 + l(z4.matmul(A).matmul(z4-z2))*pz2*pz4 + l(z4.matmul(A).matmul(z4-z3))*pz3*pz4\n",
    "    return res\n",
    "\n",
    "def display(A, loss_fun, verbose = True):\n",
    "    # identity matrix loss\n",
    "    print(\"identity matrix loss: \", loss_fun(A = torch.eye(A.shape[0])).item())\n",
    "    # solved A loss\n",
    "    print(\"solved A loss: \",loss_fun(A = A).item())\n",
    "    # Spec norm \n",
    "    U, S, Vh = torch.linalg.svd(A, full_matrices=False)\n",
    "    if verbose:\n",
    "        print(\"Singular values: \",S)\n",
    "    else:\n",
    "        print(\"Spec norm: \",S[0])\n",
    "    # F norm not bounded\n",
    "    fnorm = torch.square(A).sum().item()\n",
    "    print(\"Frobenius norm square: \", fnorm)\n",
    "    if verbose:\n",
    "        print(\"A is: \", A)"
   ]
  },
  {
   "cell_type": "markdown",
   "metadata": {},
   "source": [
    "non-constrain"
   ]
  },
  {
   "cell_type": "code",
   "execution_count": 24,
   "metadata": {},
   "outputs": [],
   "source": [
    "p = [0,0,1/2,1/2]\n",
    "# p = [1/8, 4/17, 3/5, 1-1/8-4/17-3/5]\n",
    "A = torch.randn(2, 2, requires_grad=True)"
   ]
  },
  {
   "cell_type": "code",
   "execution_count": 18,
   "metadata": {},
   "outputs": [
    {
     "name": "stdout",
     "output_type": "stream",
     "text": [
      "0 0.15124627947807312\n",
      "5000 0.13122914731502533\n",
      "10000 0.11749076098203659\n",
      "15000 0.10687927901744843\n",
      "20000 0.09814735502004623\n"
     ]
    }
   ],
   "source": [
    "learning_rate = 1e-3\n",
    "epoch_loss = []\n",
    "for t in range(20001):\n",
    "    loss = loss_fun(A = A, p = p)\n",
    "    if t % 5000 == 0:\n",
    "        print(t, loss.item())\n",
    "    \n",
    "    # Backward pass: compute gradient of the loss with respect to all the learnable\n",
    "    # parameters of the model. Internally, the parameters of each Module are stored\n",
    "    # in Tensors with requires_grad=True, so this call will compute gradients for\n",
    "    # all learnable parameters in the model.\n",
    "    loss.backward()\n",
    "    \n",
    "    # Update the weights using gradient descent. Each parameter is a Tensor, so\n",
    "    # we can access its gradients like we did before.\n",
    "    with torch.no_grad():\n",
    "        A -= learning_rate * A.grad\n",
    "    \n",
    "    # Zero the gradients before running the backward pass.\n",
    "    A.grad.zero_()\n",
    "\n",
    "    epoch_loss.append(loss.item())"
   ]
  },
  {
   "cell_type": "code",
   "execution_count": 20,
   "metadata": {},
   "outputs": [
    {
     "name": "stdout",
     "output_type": "stream",
     "text": [
      "identity matrix loss:  0.15097177028656006\n",
      "solved A loss:  0.19531668722629547\n",
      "Singular values:  tensor([3.5297, 0.7195], grad_fn=<LinalgSvdBackward0>)\n",
      "Frobenius norm:  3.6023383140563965\n",
      "A is:  tensor([[-0.3326, -1.2470],\n",
      "        [-1.1985,  3.1424]], requires_grad=True)\n"
     ]
    }
   ],
   "source": [
    "display(A, loss_fun)"
   ]
  },
  {
   "cell_type": "markdown",
   "metadata": {},
   "source": [
    "frobenius norm bound by 2"
   ]
  },
  {
   "cell_type": "code",
   "execution_count": 29,
   "metadata": {},
   "outputs": [],
   "source": [
    "p = [0,0,1/2,1/2]\n",
    "# p = [1/8, 4/17, 3/5, 1-1/8-4/17-3/5]\n",
    "A = torch.randn(2, 2, requires_grad=True)"
   ]
  },
  {
   "cell_type": "code",
   "execution_count": 35,
   "metadata": {},
   "outputs": [
    {
     "name": "stdout",
     "output_type": "stream",
     "text": [
      "0 0.211614191532135\n",
      "5000 0.2110370546579361\n",
      "10000 0.2106093466281891\n",
      "15000 0.21028831601142883\n",
      "20000 0.21004554629325867\n"
     ]
    }
   ],
   "source": [
    "learning_rate = 5e-4\n",
    "epoch_loss = []\n",
    "for t in range(20001):\n",
    "    loss = loss_fun(A = A, p = p)\n",
    "    if t % 5000 == 0:\n",
    "        print(t, loss.item())\n",
    "    \n",
    "    # Backward pass: compute gradient of the loss with respect to all the learnable\n",
    "    # parameters of the model. Internally, the parameters of each Module are stored\n",
    "    # in Tensors with requires_grad=True, so this call will compute gradients for\n",
    "    # all learnable parameters in the model.\n",
    "    loss.backward()\n",
    "    \n",
    "    # Update the weights using gradient descent. Each parameter is a Tensor, so\n",
    "    # we can access its gradients like we did before.\n",
    "    with torch.no_grad():\n",
    "        A -= learning_rate * A.grad\n",
    "    \n",
    "    fnorm = torch.sqrt(torch.square(A).sum()/2).item()\n",
    "\n",
    "    if fnorm > 1:\n",
    "        with torch.no_grad():\n",
    "            A /= fnorm\n",
    "    \n",
    "    # Zero the gradients before running the backward pass.\n",
    "    A.grad.zero_()\n",
    "\n",
    "    epoch_loss.append(loss.item())"
   ]
  },
  {
   "cell_type": "code",
   "execution_count": 36,
   "metadata": {},
   "outputs": [
    {
     "data": {
      "text/plain": [
       "<matplotlib.axes._subplots.AxesSubplot at 0x7fdb33190e50>"
      ]
     },
     "execution_count": 36,
     "metadata": {},
     "output_type": "execute_result"
    },
    {
     "data": {
      "image/png": "[encoded data removed]",
      "text/plain": [
       "<Figure size 432x288 with 1 Axes>"
      ]
     },
     "metadata": {
      "needs_background": "light"
     },
     "output_type": "display_data"
    }
   ],
   "source": [
    "# sns.lineplot(epoch_loss)"
   ]
  },
  {
   "cell_type": "code",
   "execution_count": 37,
   "metadata": {},
   "outputs": [
    {
     "name": "stdout",
     "output_type": "stream",
     "text": [
      "identity matrix loss:  0.15097177028656006\n",
      "solved A loss:  0.19324398040771484\n",
      "Singular values:  tensor([1.4050, 0.1609], grad_fn=<LinalgSvdBackward0>)\n",
      "Frobenius norm:  2.000000476837158\n",
      "A is:  tensor([[ 0.1678, -0.4419],\n",
      "        [ 0.0054,  1.3329]], requires_grad=True)\n"
     ]
    }
   ],
   "source": [
    "display(A, loss_fun)"
   ]
  },
  {
   "cell_type": "code",
   "execution_count": null,
   "metadata": {},
   "outputs": [],
   "source": []
  },
  {
   "cell_type": "markdown",
   "metadata": {},
   "source": [
    "Spectral norm bounded by 1"
   ]
  },
  {
   "cell_type": "code",
   "execution_count": 38,
   "metadata": {},
   "outputs": [],
   "source": [
    "p = [0,0,1/2,1/2]\n",
    "# p = [1/8, 4/17, 3/5, 1-1/8-4/17-3/5]\n",
    "A = torch.randn(2, 2, requires_grad=True)"
   ]
  },
  {
   "cell_type": "code",
   "execution_count": 54,
   "metadata": {},
   "outputs": [
    {
     "name": "stdout",
     "output_type": "stream",
     "text": [
      "0 0.4841488003730774\n",
      "5000 0.4823833703994751\n",
      "10000 0.48062771558761597\n",
      "15000 0.47888171672821045\n",
      "20000 0.47714537382125854\n"
     ]
    }
   ],
   "source": [
    "learning_rate = 1e-5\n",
    "def train_specNorm(learning_rate= 1e-5, A = A, p = p):\n",
    "    epoch_loss = []\n",
    "    for t in range(20001):\n",
    "        loss = loss_fun(A = A, p = p)\n",
    "        if t % 5000 == 0:\n",
    "            print(f\"Epoch: {t}/{20000}  === Train Cost:{loss.item()}\")\n",
    "        \n",
    "        # Backward pass: compute gradient of the loss with respect to all the learnable\n",
    "        # parameters of the model. Internally, the parameters of each Module are stored\n",
    "        # in Tensors with requires_grad=True, so this call will compute gradients for\n",
    "        # all learnable parameters in the model.\n",
    "        loss.backward()\n",
    "        \n",
    "        # Update the weights using gradient descent. Each parameter is a Tensor, so\n",
    "        # we can access its gradients like we did before.\n",
    "        with torch.no_grad():\n",
    "            A -= learning_rate * A.grad\n",
    "        \n",
    "        U, S, Vh = torch.linalg.svd(A, full_matrices=False)\n",
    "\n",
    "        if S[0].item() > 1:\n",
    "            with torch.no_grad():\n",
    "                A /= S[0].item()\n",
    "        \n",
    "        # Zero the gradients before running the backward pass.\n",
    "        A.grad.zero_()\n",
    "\n",
    "        epoch_loss.append(loss.item())\n",
    "    return A, epoch_loss\n",
    "    \n",
    "A, epoch_loss = train_specNorm(learning_rate= learning_rate, A = A, p = p)"
   ]
  },
  {
   "cell_type": "code",
   "execution_count": 55,
   "metadata": {},
   "outputs": [],
   "source": [
    "# sns.lineplot(epoch_loss)"
   ]
  },
  {
   "cell_type": "code",
   "execution_count": 56,
   "metadata": {},
   "outputs": [
    {
     "name": "stdout",
     "output_type": "stream",
     "text": [
      "identity matrix loss:  0.15097177028656006\n",
      "solved A loss:  0.4324134588241577\n",
      "Singular values:  tensor([0.8887, 0.5710], grad_fn=<LinalgSvdBackward0>)\n",
      "Frobenius norm:  1.1159248352050781\n",
      "A is:  tensor([[-0.6015, -0.0354],\n",
      "        [-0.1586, -0.8531]], requires_grad=True)\n"
     ]
    }
   ],
   "source": [
    "display(A, loss_fun)"
   ]
  },
  {
   "cell_type": "code",
   "execution_count": null,
   "metadata": {},
   "outputs": [],
   "source": []
  },
  {
   "cell_type": "markdown",
   "metadata": {},
   "source": [
    "## High Dimension"
   ]
  },
  {
   "cell_type": "code",
   "execution_count": null,
   "metadata": {},
   "outputs": [],
   "source": []
  },
  {
   "cell_type": "code",
   "execution_count": 104,
   "metadata": {},
   "outputs": [],
   "source": [
    "def loss_fun(A, z1, z2):\n",
    "    res = l(z1.matmul(A).matmul(z1-z2)) + l(z2.matmul(A).matmul(z2-z1))\n",
    "    return res\n",
    "\n",
    "def display(A, z1, z2, verbose = True):\n",
    "    # identity matrix loss\n",
    "    print(\"identity matrix loss: \", loss_fun(A = torch.eye(A.shape[0]), z1 = z1, z2 = z2).item())\n",
    "    # solved A loss\n",
    "    print(\"solved A loss: \",loss_fun(A = A, z1 = z1, z2 = z2).item())\n",
    "    # Spec norm \n",
    "    U, S, Vh = torch.linalg.svd(A, full_matrices=False)\n",
    "    if verbose:\n",
    "        print(\"Singular values: \",S)\n",
    "    else:\n",
    "        print(\"Spec norm: \",S[0])\n",
    "    # F norm not bounded\n",
    "    fnorm = torch.square(A).sum().item()\n",
    "    print(\"Frobenius norm square: \", fnorm)\n",
    "    if verbose:\n",
    "        print(\"A is: \", A)"
   ]
  },
  {
   "cell_type": "code",
   "execution_count": 81,
   "metadata": {},
   "outputs": [],
   "source": [
    "# dim of z\n",
    "k = 100\n",
    "p1, p2 = 1/4,3/4\n",
    "l = lambda x: torch.log(1+torch.exp(-x))"
   ]
  },
  {
   "cell_type": "code",
   "execution_count": 82,
   "metadata": {},
   "outputs": [],
   "source": [
    "# generate size k array with each entry =  1 w.p.  p1 \n",
    "#                                          0 w.p.  p2\n",
    "def sampleZ(k=100,p = [1/4,3/4]):\n",
    "    p1, p2 = p\n",
    "    tmp = np.random.choice([0,1], k, p = [p1,p2])\n",
    "    z = torch.from_numpy(tmp).type(torch.float32)\n",
    "    return z\n",
    "\n",
    "z1 = sampleZ()\n",
    "z2 = sampleZ()\n",
    "# print(z1-z2)"
   ]
  },
  {
   "cell_type": "code",
   "execution_count": 83,
   "metadata": {},
   "outputs": [
    {
     "name": "stdout",
     "output_type": "stream",
     "text": [
      "Linear(in_features=100, out_features=100, bias=False)\n"
     ]
    },
    {
     "data": {
      "text/plain": [
       "tensor(0.0183, grad_fn=<AddBackward0>)"
      ]
     },
     "execution_count": 83,
     "metadata": {},
     "output_type": "execute_result"
    }
   ],
   "source": [
    "class myModel(nn.Module):\n",
    "    def __init__(self,k) -> None:\n",
    "        super(myModel, self).__init__()\n",
    "\n",
    "        self.M = nn.Linear(k,k, bias=False)\n",
    "\n",
    "    def forward(self, z1, z2):\n",
    "        \"\"\"\n",
    "        Input:\n",
    "            z1: first image latent vector\n",
    "            z2: second image latent vector\n",
    "        Output:\n",
    "            loss\n",
    "        \"\"\"\n",
    "        Mz1 = self.M(z1)\n",
    "        Mz2 = self.M(z2)\n",
    "        loss = l(Mz1.matmul(Mz1-Mz2)) + l(Mz2.matmul(Mz2-Mz1))\n",
    "        return loss\n",
    "\n",
    "model = myModel(k)\n",
    "# We want to investigate whether A = M^T M is closed to identity\n",
    "print(model.M)\n",
    "\n",
    "model(z1,z2)"
   ]
  },
  {
   "cell_type": "code",
   "execution_count": 84,
   "metadata": {},
   "outputs": [],
   "source": [
    "def train(model, train_optimizer, constrain = [\"fnorm\", \"spec_norm\"]):\n",
    "    \"\"\"\n",
    "    epoch: each epoch represents we sampled one pair (z1, z2) from \\eta\n",
    "    \"\"\"\n",
    "    model.train()\n",
    "    z1 = sampleZ()\n",
    "    z2 = sampleZ()\n",
    "    loss = model(z1,z2)\n",
    "\n",
    "    train_optimizer.zero_grad()\n",
    "    loss.backward()\n",
    "    train_optimizer.step()\n",
    "\n",
    "    M = model.M.weight\n",
    "    A = M.T.matmul(M)\n",
    "    k = M.shape[0]\n",
    "    if constrain == \"fnorm\":\n",
    "        fnorm = torch.sqrt(torch.square(A).sum()/k).item()\n",
    "        if fnorm > 1:\n",
    "            with torch.no_grad():\n",
    "                for param in model.parameters():\n",
    "                    param /= fnorm.item()\n",
    "\n",
    "    elif constrain == \"spec_norm\":\n",
    "        U, S, Vh = torch.linalg.svd(A, full_matrices=False)\n",
    "\n",
    "        if S[0].item() > 1:\n",
    "            with torch.no_grad():\n",
    "                for param in model.parameters():\n",
    "                    param /= torch.sqrt(S[0]).item()\n",
    "    \n",
    "    \n",
    "    return loss\n",
    "    "
   ]
  },
  {
   "cell_type": "code",
   "execution_count": 85,
   "metadata": {},
   "outputs": [],
   "source": [
    "# test\n",
    "# train(model, optimizer, 10)"
   ]
  },
  {
   "cell_type": "code",
   "execution_count": 86,
   "metadata": {},
   "outputs": [],
   "source": [
    "LEARNING_RATE = 1e-4\n",
    "WEIGHT_DECAY = 0\n",
    "MOMENTUM = 0"
   ]
  },
  {
   "cell_type": "markdown",
   "metadata": {},
   "source": [
    "Non-constrain"
   ]
  },
  {
   "cell_type": "code",
   "execution_count": null,
   "metadata": {},
   "outputs": [],
   "source": [
    "model = myModel(k)\n",
    "# We want to investigate whether A = M^T M is closed to identity\n",
    "print(model.M)\n",
    "\n",
    "model(z1,z2)"
   ]
  },
  {
   "cell_type": "code",
   "execution_count": 116,
   "metadata": {},
   "outputs": [
    {
     "name": "stdout",
     "output_type": "stream",
     "text": [
      "Epoch: 1/20000  === Train Cost: 0.003970321733504534\n",
      "Epoch: 5001/20000  === Train Cost: 0.005510072223842144\n",
      "Epoch: 10001/20000  === Train Cost: 0.0004606905858963728\n",
      "Epoch: 15001/20000  === Train Cost: 0.05881146714091301\n",
      "Epoch: 20001/20000  === Train Cost: 0.0024756579659879208\n"
     ]
    }
   ],
   "source": [
    "# define optimizer\n",
    "optimizer = torch.optim.SGD(model.parameters(), lr=LEARNING_RATE, weight_decay=WEIGHT_DECAY, momentum=MOMENTUM)\n",
    "\n",
    "\n",
    "# training loop\n",
    "train_loss_total = []\n",
    "for epoch in range(20001):\n",
    "    train_loss = train(model, optimizer, constrain = None)\n",
    "    train_loss_total.append(train_loss)\n",
    "    # LOGGING\n",
    "    if epoch % 5000 == 0:\n",
    "        print(\"Epoch: {}/{}  === Train Cost: {}\".format(epoch + 1, 20000, train_loss))\n",
    "\n",
    "    # save model\n",
    "    # torch.save({'epoch': epoch, 'state_dict': model.state_dict(), 'optimizer' : optimizer.state_dict(),}, args.results_dir + '/model_last.pth')"
   ]
  },
  {
   "cell_type": "code",
   "execution_count": 117,
   "metadata": {},
   "outputs": [],
   "source": [
    "M = model.M.weight\n",
    "A = M.T.matmul(M)"
   ]
  },
  {
   "cell_type": "code",
   "execution_count": 118,
   "metadata": {},
   "outputs": [],
   "source": [
    "z1 = sampleZ()\n",
    "z2 = sampleZ()"
   ]
  },
  {
   "cell_type": "code",
   "execution_count": 119,
   "metadata": {},
   "outputs": [
    {
     "name": "stdout",
     "output_type": "stream",
     "text": [
      "identity matrix loss:  0.0\n",
      "solved A loss:  0.003224327927455306\n",
      "Spec norm:  tensor(1.3389, grad_fn=<SelectBackward0>)\n",
      "Frobenius norm square:  22.94900894165039\n"
     ]
    }
   ],
   "source": [
    "display(A,z1 = z1, z2 = z2, verbose=False)\n"
   ]
  },
  {
   "cell_type": "code",
   "execution_count": 120,
   "metadata": {},
   "outputs": [],
   "source": [
    "# the same\n",
    "# model(z1,z2)\n",
    "# l(z1.matmul(A).matmul(z1-z2)) + l(z2.matmul(A).matmul(z2-z1))\n",
    "# loss_fun(A = A, z1=z1, z2=z2)"
   ]
  },
  {
   "cell_type": "markdown",
   "metadata": {},
   "source": [
    "fnorm constrain"
   ]
  },
  {
   "cell_type": "code",
   "execution_count": 121,
   "metadata": {},
   "outputs": [
    {
     "name": "stdout",
     "output_type": "stream",
     "text": [
      "Linear(in_features=100, out_features=100, bias=False)\n"
     ]
    },
    {
     "data": {
      "text/plain": [
       "tensor(0.0071, grad_fn=<AddBackward0>)"
      ]
     },
     "execution_count": 121,
     "metadata": {},
     "output_type": "execute_result"
    }
   ],
   "source": [
    "model = myModel(k)\n",
    "# We want to investigate whether A = M^T M is closed to identity\n",
    "print(model.M)\n",
    "\n",
    "model(z1,z2)"
   ]
  },
  {
   "cell_type": "code",
   "execution_count": 122,
   "metadata": {},
   "outputs": [
    {
     "name": "stdout",
     "output_type": "stream",
     "text": [
      "Epoch: 1/20000  === Train Cost: 0.010331184603273869\n",
      "Epoch: 5001/20000  === Train Cost: 0.005885259248316288\n",
      "Epoch: 10001/20000  === Train Cost: 0.010167139582335949\n",
      "Epoch: 15001/20000  === Train Cost: 0.03847473859786987\n",
      "Epoch: 20001/20000  === Train Cost: 0.0041666459292173386\n"
     ]
    }
   ],
   "source": [
    "# define optimizer\n",
    "optimizer = torch.optim.SGD(model.parameters(), lr=LEARNING_RATE, weight_decay=WEIGHT_DECAY, momentum=MOMENTUM)\n",
    "\n",
    "\n",
    "# training loop\n",
    "train_loss_total = []\n",
    "for epoch in range(20001):\n",
    "    train_loss = train(model, optimizer, constrain = \"fnorm\")\n",
    "    train_loss_total.append(train_loss)\n",
    "    # LOGGING\n",
    "    if epoch % 5000 == 0:\n",
    "        print(\"Epoch: {}/{}  === Train Cost: {}\".format(epoch + 1, 20000, train_loss))\n",
    "\n",
    "    # save model\n",
    "    # torch.save({'epoch': epoch, 'state_dict': model.state_dict(), 'optimizer' : optimizer.state_dict(),}, args.results_dir + '/model_last.pth')"
   ]
  },
  {
   "cell_type": "code",
   "execution_count": 123,
   "metadata": {},
   "outputs": [],
   "source": [
    "M = model.M.weight"
   ]
  },
  {
   "cell_type": "code",
   "execution_count": 124,
   "metadata": {},
   "outputs": [],
   "source": [
    "A = M.T.matmul(M)"
   ]
  },
  {
   "cell_type": "code",
   "execution_count": 127,
   "metadata": {},
   "outputs": [],
   "source": [
    "z1 = sampleZ()\n",
    "z2 = sampleZ()"
   ]
  },
  {
   "cell_type": "code",
   "execution_count": 130,
   "metadata": {},
   "outputs": [
    {
     "name": "stdout",
     "output_type": "stream",
     "text": [
      "identity matrix loss:  1.1920928244535389e-07\n",
      "solved A loss:  0.01049877516925335\n",
      "Spec norm:  tensor(1.2870, grad_fn=<SelectBackward0>)\n",
      "Frobenius norm square:  22.531206130981445\n"
     ]
    }
   ],
   "source": [
    "display(A, z1, z2, verbose=False)"
   ]
  },
  {
   "cell_type": "code",
   "execution_count": 279,
   "metadata": {},
   "outputs": [],
   "source": [
    "# for name, param in model.named_parameters():\n",
    "#     if param.requires_grad:\n",
    "#         print(name, param.data)"
   ]
  },
  {
   "cell_type": "code",
   "execution_count": 132,
   "metadata": {},
   "outputs": [
    {
     "data": {
      "image/png": "[encoded data removed]",
      "text/plain": [
       "<Figure size 432x288 with 1 Axes>"
      ]
     },
     "metadata": {
      "needs_background": "light"
     },
     "output_type": "display_data"
    }
   ],
   "source": [
    "plt.imshow(A.detach().numpy(), cmap='hot', interpolation='nearest')\n",
    "plt.show()\n"
   ]
  },
  {
   "cell_type": "code",
   "execution_count": 134,
   "metadata": {},
   "outputs": [
    {
     "data": {
      "text/plain": [
       "tensor([[ 3.0977e-01, -4.4899e-02,  8.5455e-04, -1.6953e-02, -6.0697e-02],\n",
       "        [-4.4899e-02,  3.3429e-01,  1.0946e-02, -4.1330e-05,  4.3079e-03],\n",
       "        [ 8.5455e-04,  1.0946e-02,  3.5772e-01,  1.7699e-02, -3.4041e-03],\n",
       "        [-1.6953e-02, -4.1330e-05,  1.7699e-02,  3.2811e-01, -6.4591e-02],\n",
       "        [-6.0697e-02,  4.3079e-03, -3.4041e-03, -6.4591e-02,  3.2046e-01]],\n",
       "       grad_fn=<SliceBackward0>)"
      ]
     },
     "execution_count": 134,
     "metadata": {},
     "output_type": "execute_result"
    }
   ],
   "source": [
    "A[:5,:5]"
   ]
  },
  {
   "cell_type": "code",
   "execution_count": null,
   "metadata": {},
   "outputs": [],
   "source": []
  },
  {
   "cell_type": "markdown",
   "metadata": {},
   "source": [
    "Spec_norm constrain"
   ]
  },
  {
   "cell_type": "code",
   "execution_count": 135,
   "metadata": {},
   "outputs": [
    {
     "name": "stdout",
     "output_type": "stream",
     "text": [
      "Linear(in_features=100, out_features=100, bias=False)\n"
     ]
    },
    {
     "data": {
      "text/plain": [
       "tensor(0.0039, grad_fn=<AddBackward0>)"
      ]
     },
     "execution_count": 135,
     "metadata": {},
     "output_type": "execute_result"
    }
   ],
   "source": [
    "model = myModel(k)\n",
    "# We want to investigate whether A = M^T M is closed to identity\n",
    "print(model.M)\n",
    "\n",
    "model(z1,z2)"
   ]
  },
  {
   "cell_type": "code",
   "execution_count": 136,
   "metadata": {},
   "outputs": [
    {
     "name": "stdout",
     "output_type": "stream",
     "text": [
      "Epoch: 1/20000  === Train Cost: 0.0020099999383091927\n",
      "Epoch: 5001/20000  === Train Cost: 0.024358335882425308\n",
      "Epoch: 10001/20000  === Train Cost: 0.01584814116358757\n",
      "Epoch: 15001/20000  === Train Cost: 0.010305714793503284\n",
      "Epoch: 20001/20000  === Train Cost: 0.04692508280277252\n"
     ]
    }
   ],
   "source": [
    "# define optimizer\n",
    "optimizer = torch.optim.SGD(model.parameters(), lr=LEARNING_RATE, weight_decay=WEIGHT_DECAY, momentum=MOMENTUM)\n",
    "\n",
    "\n",
    "# training loop\n",
    "train_loss_total = []\n",
    "for epoch in range(20001):\n",
    "    train_loss = train(model, optimizer, constrain = \"spec_norm\")\n",
    "    train_loss_total.append(train_loss)\n",
    "    # LOGGING\n",
    "    if epoch % 5000 == 0:\n",
    "        print(\"Epoch: {}/{}  === Train Cost: {}\".format(epoch + 1, 20000, train_loss))\n",
    "\n",
    "    # save model\n",
    "    # torch.save({'epoch': epoch, 'state_dict': model.state_dict(), 'optimizer' : optimizer.state_dict(),}, args.results_dir + '/model_last.pth')"
   ]
  },
  {
   "cell_type": "code",
   "execution_count": 137,
   "metadata": {},
   "outputs": [],
   "source": [
    "M = model.M.weight\n",
    "A = M.T.matmul(M)"
   ]
  },
  {
   "cell_type": "code",
   "execution_count": 138,
   "metadata": {},
   "outputs": [],
   "source": [
    "z1 = sampleZ()\n",
    "z2 = sampleZ()"
   ]
  },
  {
   "cell_type": "code",
   "execution_count": 139,
   "metadata": {},
   "outputs": [
    {
     "name": "stdout",
     "output_type": "stream",
     "text": [
      "identity matrix loss:  6.198863957251888e-06\n",
      "solved A loss:  0.09437490999698639\n",
      "Spec norm:  tensor(1.0000, grad_fn=<SelectBackward0>)\n",
      "Frobenius norm square:  13.600052833557129\n"
     ]
    }
   ],
   "source": [
    "display(A, z1, z2, verbose=False)"
   ]
  },
  {
   "cell_type": "code",
   "execution_count": 140,
   "metadata": {},
   "outputs": [
    {
     "data": {
      "image/png": "[encoded data removed]",
      "text/plain": [
       "<Figure size 432x288 with 1 Axes>"
      ]
     },
     "metadata": {
      "needs_background": "light"
     },
     "output_type": "display_data"
    }
   ],
   "source": [
    "plt.imshow(A.detach().numpy(), cmap='hot', interpolation='nearest')\n",
    "plt.show()"
   ]
  },
  {
   "cell_type": "code",
   "execution_count": 141,
   "metadata": {},
   "outputs": [
    {
     "data": {
      "text/plain": [
       "tensor([[ 0.2743, -0.0199, -0.0072,  0.0190, -0.0277],\n",
       "        [-0.0199,  0.3172,  0.0068,  0.0340,  0.0914],\n",
       "        [-0.0072,  0.0068,  0.2513, -0.0301, -0.0297],\n",
       "        [ 0.0190,  0.0340, -0.0301,  0.2748,  0.0301],\n",
       "        [-0.0277,  0.0914, -0.0297,  0.0301,  0.2921]],\n",
       "       grad_fn=<SliceBackward0>)"
      ]
     },
     "execution_count": 141,
     "metadata": {},
     "output_type": "execute_result"
    }
   ],
   "source": [
    "A[:5,:5]"
   ]
  },
  {
   "cell_type": "code",
   "execution_count": 143,
   "metadata": {},
   "outputs": [
    {
     "data": {
      "text/plain": [
       "13.600052833557129"
      ]
     },
     "execution_count": 143,
     "metadata": {},
     "output_type": "execute_result"
    }
   ],
   "source": [
    "torch.square(A).sum().item()"
   ]
  },
  {
   "cell_type": "code",
   "execution_count": null,
   "metadata": {},
   "outputs": [],
   "source": []
  }
 ],
 "metadata": {
  "kernelspec": {
   "display_name": "Python 3.8.3 ('base')",
   "language": "python",
   "name": "python3"
  },
  "language_info": {
   "codemirror_mode": {
    "name": "ipython",
    "version": 3
   },
   "file_extension": ".py",
   "mimetype": "text/x-python",
   "name": "python",
   "nbconvert_exporter": "python",
   "pygments_lexer": "ipython3",
   "version": "3.8.3"
  },
  "orig_nbformat": 4,
  "vscode": {
   "interpreter": {
    "hash": "988c794135c7b53f1bd55a0ab2ba580152f2cd81db3906515a6ddf7fd2edeb28"
   }
  }
 },
 "nbformat": 4,
 "nbformat_minor": 2
}
